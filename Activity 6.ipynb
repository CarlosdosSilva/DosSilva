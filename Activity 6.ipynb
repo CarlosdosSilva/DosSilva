{
 "cells": [
  {
   "cell_type": "code",
   "execution_count": null,
   "id": "2e17cd63-d7e5-4f7b-8655-af910bc51a81",
   "metadata": {},
   "outputs": [],
   "source": [
    "import os\n",
    "\n",
    "if not os.path.exists('thinkdsp.py'):\n",
    "    !wget https://github.com/AllenDowney/ThinkDSP/raw/master/code/thinkdsp.py\n",
    "    \n",
    "    import numpy as np\n",
    "import matplotlib.pyplot as plt\n",
    "\n",
    "from thinkdsp import decorate\n",
    "\n",
    "from thinkdsp import Noise\n",
    "\n",
    "class UncorrelatedPoissonNoise(Noise):\n",
    "    \"\"\"Represents uncorrelated Poisson noise.\"\"\"\n",
    "\n",
    "    def evaluate(self, ts):\n",
    "        \"\"\"Evaluates the signal at the given times.\n",
    "\n",
    "        ts: float array of times\n",
    "        \n",
    "        returns: float wave array\n",
    "        \"\"\"\n",
    "        ys = np.random.poisson(self.amp, len(ts))\n",
    "        return ys\n",
    "    \n",
    "    amp = 0.001\n",
    "framerate = 10000\n",
    "duration = 1\n",
    "\n",
    "signal = UncorrelatedPoissonNoise(amp=amp)\n",
    "wave = signal.make_wave(duration=duration, framerate=framerate)\n",
    "wave.make_audio()\n"
   ]
  }
 ],
 "metadata": {
  "kernelspec": {
   "display_name": "Python 3 (ipykernel)",
   "language": "python",
   "name": "python3"
  },
  "language_info": {
   "codemirror_mode": {
    "name": "ipython",
    "version": 3
   },
   "file_extension": ".py",
   "mimetype": "text/x-python",
   "name": "python",
   "nbconvert_exporter": "python",
   "pygments_lexer": "ipython3",
   "version": "3.11.4"
  }
 },
 "nbformat": 4,
 "nbformat_minor": 5
}
