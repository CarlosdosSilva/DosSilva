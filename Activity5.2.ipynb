{
 "cells": [
  {
   "cell_type": "code",
   "execution_count": 1,
   "id": "b6e41886-ac1b-4286-a3c7-8d4527dc63e3",
   "metadata": {
    "tags": []
   },
   "outputs": [
    {
     "ename": "IndentationError",
     "evalue": "unexpected indent (2436627809.py, line 6)",
     "output_type": "error",
     "traceback": [
      "\u001b[1;36m  Cell \u001b[1;32mIn[1], line 6\u001b[1;36m\u001b[0m\n\u001b[1;33m    import numpy as np\u001b[0m\n\u001b[1;37m    ^\u001b[0m\n\u001b[1;31mIndentationError\u001b[0m\u001b[1;31m:\u001b[0m unexpected indent\n"
     ]
    }
   ],
   "source": [
    "import os\n",
    "\n",
    "if not os.path.exists('thinkdsp.py'):\n",
    "    !wget https://github.com/AllenDowney/ThinkDSP/raw/master/code/thinkdsp.py\n",
    "    \n",
    "     import numpy as np\n",
    "import matplotlib.pyplot as plt\n",
    "\n",
    "from thinkdsp import decorate\n",
    "\n",
    "from thinkdsp import Chirp\n",
    "from thinkdsp import normalize, unbias\n",
    "\n",
    "PI2 = 2 * np.pi\n",
    "\n",
    "class SawtoothChirp(Chirp):\n",
    "    \"\"\"Represents a sawtooth signal with varying frequency.\"\"\"\n",
    "\n",
    "    def evaluate(self, ts):\n",
    "        \"\"\"Helper function that evaluates the signal.\n",
    "\n",
    "        ts: float array of times\n",
    "        \"\"\"\n",
    "        freqs = np.linspace(self.start, self.end, len(ts))\n",
    "        dts = np.diff(ts, prepend=0)\n",
    "        dphis = PI2 * freqs * dts\n",
    "        phases = np.cumsum(dphis)\n",
    "        cycles = phases / PI2\n",
    "        frac, _ = np.modf(cycles)\n",
    "        ys =  normalize(unbias(frac), self.amp)\n",
    "        return ys\n",
    "    \n",
    "    signal = SawtoothChirp(start=220, end=880)\n",
    "wave = signal.make_wave(duration=1, framerate=4000)\n",
    "wave.apodize()\n",
    "wave.make_audio()\n",
    "\n",
    "\n",
    "    "
   ]
  },
  {
   "cell_type": "code",
   "execution_count": null,
   "id": "7b9cd837-fd0d-4bf6-91e3-e47aa4341fa6",
   "metadata": {},
   "outputs": [],
   "source": []
  }
 ],
 "metadata": {
  "kernelspec": {
   "display_name": "Python 3 (ipykernel)",
   "language": "python",
   "name": "python3"
  },
  "language_info": {
   "codemirror_mode": {
    "name": "ipython",
    "version": 3
   },
   "file_extension": ".py",
   "mimetype": "text/x-python",
   "name": "python",
   "nbconvert_exporter": "python",
   "pygments_lexer": "ipython3",
   "version": "3.11.4"
  }
 },
 "nbformat": 4,
 "nbformat_minor": 5
}
